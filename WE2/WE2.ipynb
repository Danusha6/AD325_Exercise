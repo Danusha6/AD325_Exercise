{
 "cells": [
  {
   "cell_type": "markdown",
   "metadata": {},
   "source": [
    "Weekly Exercise 2 - Stacks, Queues"
   ]
  },
  {
   "cell_type": "markdown",
   "metadata": {},
   "source": [
    "Lists/ duplicates"
   ]
  },
  {
   "cell_type": "code",
   "execution_count": 1,
   "metadata": {},
   "outputs": [
    {
     "name": "stdout",
     "output_type": "stream",
     "text": [
      "6\n"
     ]
    }
   ],
   "source": [
    "def count_duplicates(int_list):\n",
    "    # Set to store unique values\n",
    "    seen = set()  \n",
    "    # Counter for duplicates\n",
    "    duplicates_count = 0  \n",
    "\n",
    "    for number in int_list:\n",
    "        if number in seen:\n",
    "            duplicates_count += 1\n",
    "        else:\n",
    "            seen.add(number)\n",
    "\n",
    "    return duplicates_count\n",
    "\n",
    "# Example usage:\n",
    "a = [1, 4, 2, 4, 7, 1, 1, 9, 2, 3, 4, 1]\n",
    "print(count_duplicates(a))\n"
   ]
  },
  {
   "cell_type": "markdown",
   "metadata": {},
   "source": [
    "List/ sorted"
   ]
  },
  {
   "cell_type": "code",
   "execution_count": 36,
   "metadata": {},
   "outputs": [],
   "source": [
    "def is_stack_sorted(stack): \n",
    "    # An empty stack is considered sorted \n",
    "    if not stack: \n",
    "        return True \n",
    "    \n",
    "    if len(stack) <= 1:\n",
    "        return True\n",
    "    \n",
    "    aux_stack = [] \n",
    "    is_sorted = True \n",
    "    \n",
    "    # Pop the first element\n",
    "    prev = stack.pop() \n",
    "    \n",
    "    # Process all elements \n",
    "    while stack: \n",
    "        current = stack.pop() \n",
    "        # If the stack is not in reverse sorted order \n",
    "        if current > prev: \n",
    "            is_sorted = False \n",
    "        # Save the element to restore later     \n",
    "        aux_stack.append(prev) \n",
    "        # Move to the next element\n",
    "        prev = current  \n",
    "        \n",
    "        # Don't forget the last element \n",
    "        aux_stack.append(prev) # Restore the original stack \n",
    "        \n",
    "        while aux_stack: \n",
    "            stack.append(aux_stack.pop()) \n",
    "            \n",
    "        return is_sorted"
   ]
  },
  {
   "cell_type": "markdown",
   "metadata": {},
   "source": [
    "Lists/ median"
   ]
  },
  {
   "cell_type": "code",
   "execution_count": 29,
   "metadata": {},
   "outputs": [
    {
     "name": "stdout",
     "output_type": "stream",
     "text": [
      "5\n",
      "25\n"
     ]
    }
   ],
   "source": [
    "def median(numbers):\n",
    "    # Sort the list\n",
    "    sorted_numbers = sorted(numbers)\n",
    "    \n",
    "    # Find the middle index\n",
    "    mid_index = len(sorted_numbers) // 2\n",
    "    \n",
    "    # Return the median\n",
    "    return sorted_numbers[mid_index]\n",
    "\n",
    "# Example usage:\n",
    "print(median([5, 2, 4, 17, 55, 4, 3, 26, 18, 2, 17]))\n",
    "print(median([42, 37, 1, 97, 1, 2, 7, 42, 3, 25, 89, 15, 10, 29, 27])) "
   ]
  }
 ],
 "metadata": {
  "kernelspec": {
   "display_name": "base",
   "language": "python",
   "name": "python3"
  },
  "language_info": {
   "codemirror_mode": {
    "name": "ipython",
    "version": 3
   },
   "file_extension": ".py",
   "mimetype": "text/x-python",
   "name": "python",
   "nbconvert_exporter": "python",
   "pygments_lexer": "ipython3",
   "version": "3.12.4"
  },
  "orig_nbformat": 4
 },
 "nbformat": 4,
 "nbformat_minor": 2
}
