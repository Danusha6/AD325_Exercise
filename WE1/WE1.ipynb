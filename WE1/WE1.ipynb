{
 "cells": [
  {
   "cell_type": "markdown",
   "metadata": {
    "tags": []
   },
   "source": [
    "Week One Exercise on Code step by step"
   ]
  },
  {
   "cell_type": "markdown",
   "metadata": {},
   "source": [
    "BankAccount"
   ]
  },
  {
   "cell_type": "code",
   "execution_count": 8,
   "metadata": {},
   "outputs": [],
   "source": [
    "class BankAccount:\n",
    "    def __init__(self, name):\n",
    "        # Constructor to initialize account with the given name and $0.00 balance\n",
    "        self._name = name\n",
    "        self._balance = 0.0\n",
    "\n",
    "    @property\n",
    "    def name(self):\n",
    "        # Read-only property for the account name\n",
    "        return self._name\n",
    "\n",
    "    @property\n",
    "    def balance(self):\n",
    "        # Read-only property for the account balance\n",
    "        return self._balance\n",
    "\n",
    "    def deposit(self, amount):\n",
    "        # Method to deposit money to the account\n",
    "        if amount > 0:\n",
    "            self._balance += amount\n",
    "\n",
    "    def withdraw(self, amount):\n",
    "        # Method to withdraw money from the account\n",
    "        if 0 <= amount <= self._balance:\n",
    "            self._balance -= amount\n"
   ]
  },
  {
   "cell_type": "markdown",
   "metadata": {},
   "source": [
    "BankAccount_transaction_fee"
   ]
  },
  {
   "cell_type": "code",
   "execution_count": 9,
   "metadata": {},
   "outputs": [],
   "source": [
    "class BankAccount:\n",
    "    def __init__(self, name):\n",
    "        # Constructor to initialize account with the given name, $0.00 balance, and $0.00 transaction fee\n",
    "        self._name = name\n",
    "        self._balance = 0.0\n",
    "        self._transaction_fee = 0.0\n",
    "\n",
    "    @property\n",
    "    def name(self):\n",
    "        # Read-only property for the account name\n",
    "        return self._name\n",
    "\n",
    "    @property\n",
    "    def balance(self):\n",
    "        # Read-only property for the account balance\n",
    "        return self._balance\n",
    "\n",
    "    @property\n",
    "    def transaction_fee(self):\n",
    "        # Property for the transaction fee\n",
    "        return self._transaction_fee\n",
    "\n",
    "    @transaction_fee.setter\n",
    "    def transaction_fee(self, fee):\n",
    "        # Setter for the transaction fee; only allows non-negative fees\n",
    "        if fee >= 0:\n",
    "            self._transaction_fee = fee\n",
    "\n",
    "    def deposit(self, amount):\n",
    "        # Method to deposit money to the account\n",
    "        if amount > 0:\n",
    "            self._balance += amount\n",
    "\n",
    "    def withdraw(self, amount):\n",
    "        # Method to withdraw money from the account, considering the transaction fee\n",
    "        total_withdrawal = amount + self._transaction_fee\n",
    "        if amount >= 0 and total_withdrawal <= self._balance:\n",
    "            self._balance -= total_withdrawal\n"
   ]
  },
  {
   "cell_type": "markdown",
   "metadata": {},
   "source": [
    "BankAccount_str"
   ]
  },
  {
   "cell_type": "code",
   "execution_count": 10,
   "metadata": {},
   "outputs": [],
   "source": [
    "def __str__(self):\n",
    "    return f\"{self._name}, ${self._balance:.2f}\"\n"
   ]
  },
  {
   "cell_type": "markdown",
   "metadata": {},
   "source": [
    "factorial"
   ]
  },
  {
   "cell_type": "code",
   "execution_count": 11,
   "metadata": {},
   "outputs": [],
   "source": [
    "def factorial(n):\n",
    "    # Base case\n",
    "    if n == 0 or n == 1:\n",
    "        return 1\n",
    "    # Recursive case\n",
    "    else:\n",
    "        return n * factorial(n - 1)"
   ]
  }
 ],
 "metadata": {
  "kernelspec": {
   "display_name": "base",
   "language": "python",
   "name": "python3"
  },
  "language_info": {
   "codemirror_mode": {
    "name": "ipython",
    "version": 3
   },
   "file_extension": ".py",
   "mimetype": "text/x-python",
   "name": "python",
   "nbconvert_exporter": "python",
   "pygments_lexer": "ipython3",
   "version": "3.12.4"
  },
  "orig_nbformat": 4
 },
 "nbformat": 4,
 "nbformat_minor": 2
}
